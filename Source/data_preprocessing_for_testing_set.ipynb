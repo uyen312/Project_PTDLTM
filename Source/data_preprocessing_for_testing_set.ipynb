{
  "cells": [
    {
      "cell_type": "markdown",
      "metadata": {
        "id": "Beu_ZMS6GKza"
      },
      "source": [
        "# Data Preprocessing for Testing Set\n",
        "---"
      ]
    },
    {
      "cell_type": "markdown",
      "metadata": {
        "id": "KvCReCUwGKzc"
      },
      "source": [
        "Nhiệm vụ của phần này là làm sạch dữ liệu tập test của dataset"
      ]
    },
    {
      "cell_type": "markdown",
      "metadata": {
        "id": "uOD6iYOEGKzc"
      },
      "source": [
        "## IMPORT"
      ]
    },
    {
      "cell_type": "code",
      "execution_count": 1,
      "metadata": {
        "id": "lhVkg_iWGKzd"
      },
      "outputs": [],
      "source": [
        "# Import các thư viện cần thiết\n",
        "import pandas as pd\n",
        "import matplotlib.pyplot as plt\n",
        "import seaborn as sns\n",
        "from sklearn.preprocessing import StandardScaler, LabelEncoder\n",
        "import math\n",
        "import numpy as np\n",
        "from sklearn.manifold import TSNE\n",
        "from sklearn.feature_selection import mutual_info_regression\n",
        "from scipy.stats import linregress"
      ]
    },
    {
      "cell_type": "markdown",
      "metadata": {
        "id": "2q8JFBrZGKzd"
      },
      "source": [
        "## ĐỌC DỮ LIỆU"
      ]
    },
    {
      "cell_type": "code",
      "execution_count": 2,
      "metadata": {
        "id": "m2YP7rJ5GKze"
      },
      "outputs": [],
      "source": [
        "# Google Colab\n",
        "url = \"https://raw.githubusercontent.com/uyen312/Project_PTDLTM/main/Data/test.csv\"\n",
        "df = pd.read_csv(url)\n",
        "\n",
        "# VSCode\n",
        "# df = pd.read_csv(\"../Data/dataset.csv\")"
      ]
    },
    {
      "cell_type": "code",
      "execution_count": 3,
      "metadata": {
        "colab": {
          "base_uri": "https://localhost:8080/",
          "height": 342
        },
        "id": "PqfxkH4fGKze",
        "outputId": "5913894e-8ef0-4d10-944b-98571bdf6cb5"
      },
      "outputs": [
        {
          "data": {
            "text/html": [
              "<div>\n",
              "<style scoped>\n",
              "    .dataframe tbody tr th:only-of-type {\n",
              "        vertical-align: middle;\n",
              "    }\n",
              "\n",
              "    .dataframe tbody tr th {\n",
              "        vertical-align: top;\n",
              "    }\n",
              "\n",
              "    .dataframe thead th {\n",
              "        text-align: right;\n",
              "    }\n",
              "</style>\n",
              "<table border=\"1\" class=\"dataframe\">\n",
              "  <thead>\n",
              "    <tr style=\"text-align: right;\">\n",
              "      <th></th>\n",
              "      <th>id</th>\n",
              "      <th>sale_date</th>\n",
              "      <th>sale_nbr</th>\n",
              "      <th>sale_warning</th>\n",
              "      <th>join_status</th>\n",
              "      <th>join_year</th>\n",
              "      <th>latitude</th>\n",
              "      <th>longitude</th>\n",
              "      <th>area</th>\n",
              "      <th>city</th>\n",
              "      <th>...</th>\n",
              "      <th>view_olympics</th>\n",
              "      <th>view_cascades</th>\n",
              "      <th>view_territorial</th>\n",
              "      <th>view_skyline</th>\n",
              "      <th>view_sound</th>\n",
              "      <th>view_lakewash</th>\n",
              "      <th>view_lakesamm</th>\n",
              "      <th>view_otherwater</th>\n",
              "      <th>view_other</th>\n",
              "      <th>submarket</th>\n",
              "    </tr>\n",
              "  </thead>\n",
              "  <tbody>\n",
              "    <tr>\n",
              "      <th>0</th>\n",
              "      <td>200000</td>\n",
              "      <td>2022-12-15</td>\n",
              "      <td>4.0</td>\n",
              "      <td></td>\n",
              "      <td>new</td>\n",
              "      <td>2025</td>\n",
              "      <td>47.4794</td>\n",
              "      <td>-122.2212</td>\n",
              "      <td>25</td>\n",
              "      <td>RENTON</td>\n",
              "      <td>...</td>\n",
              "      <td>0</td>\n",
              "      <td>0</td>\n",
              "      <td>0</td>\n",
              "      <td>0</td>\n",
              "      <td>0</td>\n",
              "      <td>0</td>\n",
              "      <td>0</td>\n",
              "      <td>0</td>\n",
              "      <td>0</td>\n",
              "      <td>J</td>\n",
              "    </tr>\n",
              "    <tr>\n",
              "      <th>1</th>\n",
              "      <td>200001</td>\n",
              "      <td>2000-10-15</td>\n",
              "      <td>2.0</td>\n",
              "      <td></td>\n",
              "      <td>new</td>\n",
              "      <td>2025</td>\n",
              "      <td>47.5778</td>\n",
              "      <td>-122.0270</td>\n",
              "      <td>69</td>\n",
              "      <td>SAMMAMISH</td>\n",
              "      <td>...</td>\n",
              "      <td>0</td>\n",
              "      <td>0</td>\n",
              "      <td>0</td>\n",
              "      <td>0</td>\n",
              "      <td>0</td>\n",
              "      <td>0</td>\n",
              "      <td>0</td>\n",
              "      <td>0</td>\n",
              "      <td>0</td>\n",
              "      <td>O</td>\n",
              "    </tr>\n",
              "    <tr>\n",
              "      <th>2</th>\n",
              "      <td>200002</td>\n",
              "      <td>2004-06-15</td>\n",
              "      <td>1.0</td>\n",
              "      <td></td>\n",
              "      <td>nochg</td>\n",
              "      <td>2025</td>\n",
              "      <td>47.5632</td>\n",
              "      <td>-122.1623</td>\n",
              "      <td>31</td>\n",
              "      <td>BELLEVUE</td>\n",
              "      <td>...</td>\n",
              "      <td>3</td>\n",
              "      <td>0</td>\n",
              "      <td>3</td>\n",
              "      <td>3</td>\n",
              "      <td>0</td>\n",
              "      <td>2</td>\n",
              "      <td>0</td>\n",
              "      <td>0</td>\n",
              "      <td>0</td>\n",
              "      <td>R</td>\n",
              "    </tr>\n",
              "    <tr>\n",
              "      <th>3</th>\n",
              "      <td>200003</td>\n",
              "      <td>2009-11-15</td>\n",
              "      <td>1.0</td>\n",
              "      <td></td>\n",
              "      <td>nochg</td>\n",
              "      <td>2025</td>\n",
              "      <td>47.6911</td>\n",
              "      <td>-122.3469</td>\n",
              "      <td>6</td>\n",
              "      <td>SEATTLE</td>\n",
              "      <td>...</td>\n",
              "      <td>0</td>\n",
              "      <td>0</td>\n",
              "      <td>0</td>\n",
              "      <td>0</td>\n",
              "      <td>0</td>\n",
              "      <td>0</td>\n",
              "      <td>0</td>\n",
              "      <td>0</td>\n",
              "      <td>0</td>\n",
              "      <td>B</td>\n",
              "    </tr>\n",
              "    <tr>\n",
              "      <th>4</th>\n",
              "      <td>200004</td>\n",
              "      <td>1999-06-15</td>\n",
              "      <td>1.0</td>\n",
              "      <td></td>\n",
              "      <td>reno - before</td>\n",
              "      <td>1999</td>\n",
              "      <td>47.4001</td>\n",
              "      <td>-122.4146</td>\n",
              "      <td>100</td>\n",
              "      <td>KING COUNTY</td>\n",
              "      <td>...</td>\n",
              "      <td>0</td>\n",
              "      <td>2</td>\n",
              "      <td>4</td>\n",
              "      <td>0</td>\n",
              "      <td>3</td>\n",
              "      <td>0</td>\n",
              "      <td>0</td>\n",
              "      <td>0</td>\n",
              "      <td>0</td>\n",
              "      <td>H</td>\n",
              "    </tr>\n",
              "  </tbody>\n",
              "</table>\n",
              "<p>5 rows × 46 columns</p>\n",
              "</div>"
            ],
            "text/plain": [
              "       id   sale_date  sale_nbr sale_warning    join_status  join_year  \\\n",
              "0  200000  2022-12-15       4.0                         new       2025   \n",
              "1  200001  2000-10-15       2.0                         new       2025   \n",
              "2  200002  2004-06-15       1.0                       nochg       2025   \n",
              "3  200003  2009-11-15       1.0                       nochg       2025   \n",
              "4  200004  1999-06-15       1.0               reno - before       1999   \n",
              "\n",
              "   latitude  longitude  area         city  ... view_olympics view_cascades  \\\n",
              "0   47.4794  -122.2212    25       RENTON  ...             0             0   \n",
              "1   47.5778  -122.0270    69    SAMMAMISH  ...             0             0   \n",
              "2   47.5632  -122.1623    31     BELLEVUE  ...             3             0   \n",
              "3   47.6911  -122.3469     6      SEATTLE  ...             0             0   \n",
              "4   47.4001  -122.4146   100  KING COUNTY  ...             0             2   \n",
              "\n",
              "   view_territorial  view_skyline  view_sound  view_lakewash  view_lakesamm  \\\n",
              "0                 0             0           0              0              0   \n",
              "1                 0             0           0              0              0   \n",
              "2                 3             3           0              2              0   \n",
              "3                 0             0           0              0              0   \n",
              "4                 4             0           3              0              0   \n",
              "\n",
              "   view_otherwater  view_other  submarket  \n",
              "0                0           0          J  \n",
              "1                0           0          O  \n",
              "2                0           0          R  \n",
              "3                0           0          B  \n",
              "4                0           0          H  \n",
              "\n",
              "[5 rows x 46 columns]"
            ]
          },
          "execution_count": 3,
          "metadata": {},
          "output_type": "execute_result"
        }
      ],
      "source": [
        "df.head(5)"
      ]
    },
    {
      "cell_type": "markdown",
      "metadata": {
        "id": "qmLuUYPiGKze"
      },
      "source": [
        "## DATA PREPROCESSING"
      ]
    },
    {
      "cell_type": "markdown",
      "metadata": {
        "id": "h0Am09w4GKze"
      },
      "source": [
        "### Dữ liệu có bao nhiêu dòng, cột"
      ]
    },
    {
      "cell_type": "code",
      "execution_count": 4,
      "metadata": {
        "colab": {
          "base_uri": "https://localhost:8080/"
        },
        "id": "DLdQZoNLGKze",
        "outputId": "2137328a-aa2e-4fdc-ad91-8f2674022c9c"
      },
      "outputs": [
        {
          "data": {
            "text/plain": [
              "(200000, 46)"
            ]
          },
          "execution_count": 4,
          "metadata": {},
          "output_type": "execute_result"
        }
      ],
      "source": [
        "df.shape"
      ]
    },
    {
      "cell_type": "markdown",
      "metadata": {
        "id": "cgxGlwGAGKzf"
      },
      "source": [
        "### Thông tin về các dòng dữ liệu"
      ]
    },
    {
      "cell_type": "markdown",
      "metadata": {
        "id": "grPb6eSxGKzf"
      },
      "source": [
        "#### Ý nghĩa từng dòng dữ liệu"
      ]
    },
    {
      "cell_type": "markdown",
      "metadata": {
        "id": "Npgnj6TzGKzf"
      },
      "source": [
        "- Mỗi dòng là đại diện cho thông tin về một căn nhà tại thời điểm được bán ra bao gồm các đặc điểm như vị trí, diện tích, tiện ích, giá bán, ...\n",
        "\n",
        "- Không có dòng nào có ý nghĩa khác với các dòng còn lại."
      ]
    },
    {
      "cell_type": "markdown",
      "metadata": {
        "id": "kpkuAl2NGKzf"
      },
      "source": [
        "#### Kiểm tra các dòng dữ liệu trùng lặp"
      ]
    },
    {
      "cell_type": "code",
      "execution_count": 5,
      "metadata": {
        "colab": {
          "base_uri": "https://localhost:8080/"
        },
        "id": "A84HkIodGKzf",
        "outputId": "baa0b98c-d84d-4b26-efd5-9c31576e15a7"
      },
      "outputs": [
        {
          "data": {
            "text/plain": [
              "0"
            ]
          },
          "execution_count": 5,
          "metadata": {},
          "output_type": "execute_result"
        }
      ],
      "source": [
        "duplicate_rows = df.duplicated().sum()\n",
        "duplicate_rows"
      ]
    },
    {
      "cell_type": "markdown",
      "metadata": {
        "id": "OdatHbmoGKzf"
      },
      "source": [
        "Dữ liệu không có các dòng trùng lặp"
      ]
    },
    {
      "cell_type": "markdown",
      "metadata": {
        "id": "guNv6WHtGKzf"
      },
      "source": [
        "### Thông tin về các cột dữ liệu\n",
        "Dữ liệu có các cột sau"
      ]
    },
    {
      "cell_type": "code",
      "execution_count": 6,
      "metadata": {
        "colab": {
          "base_uri": "https://localhost:8080/"
        },
        "id": "OPNwSfbYGKzf",
        "outputId": "7b90c127-49f5-4207-e640-096da77da3c7"
      },
      "outputs": [
        {
          "data": {
            "text/plain": [
              "Index(['id', 'sale_date', 'sale_nbr', 'sale_warning', 'join_status',\n",
              "       'join_year', 'latitude', 'longitude', 'area', 'city', 'zoning',\n",
              "       'subdivision', 'present_use', 'land_val', 'imp_val', 'year_built',\n",
              "       'year_reno', 'sqft_lot', 'sqft', 'sqft_1', 'sqft_fbsmt', 'grade',\n",
              "       'fbsmt_grade', 'condition', 'stories', 'beds', 'bath_full', 'bath_3qtr',\n",
              "       'bath_half', 'garb_sqft', 'gara_sqft', 'wfnt', 'golf', 'greenbelt',\n",
              "       'noise_traffic', 'view_rainier', 'view_olympics', 'view_cascades',\n",
              "       'view_territorial', 'view_skyline', 'view_sound', 'view_lakewash',\n",
              "       'view_lakesamm', 'view_otherwater', 'view_other', 'submarket'],\n",
              "      dtype='object')"
            ]
          },
          "execution_count": 6,
          "metadata": {},
          "output_type": "execute_result"
        }
      ],
      "source": [
        "df.columns"
      ]
    },
    {
      "cell_type": "markdown",
      "metadata": {
        "id": "rhc7NYUDGKzf"
      },
      "source": [
        "#### Ý nghĩa của các cột dữ liệu"
      ]
    },
    {
      "cell_type": "markdown",
      "metadata": {
        "id": "cfguvyVjGKzg"
      },
      "source": [
        "Mỗi cột có ý nghĩa sau:\n",
        "\n",
        "| Tên cột           | Ý nghĩa |\n",
        "|-------------------|---------|\n",
        "| id                | Mã định danh duy nhất của căn nhà |\n",
        "| sale_date         | Ngày diễn ra giao dịch bán nhà |\n",
        "| sale_nbr          | Số lần căn nhà này đã được bán |\n",
        "| sale_warning      | Cảnh báo liên quan đến giao dịch (bán bất thường, nội bộ, tịch thu,...) |\n",
        "| join_status       | Tình trạng khi căn nhà được ghi nhận vào hệ thống |\n",
        "| join_year         | Năm mà căn nhà được ghi nhận vào hệ thống |\n",
        "| latitude          | Vĩ độ |\n",
        "| longitude         | Kinh độ |\n",
        "| area              | Diện tích vùng/quận nơi nhà tọa lạc |\n",
        "| city              | Thành phố |\n",
        "| zoning            | Phân vùng quy hoạch sử dụng đất |\n",
        "| subdivision       | Tên khu dân cư hoặc tiểu khu |\n",
        "| present_use       | Mục đích sử dụng hiện tại (mã số) |\n",
        "| land_val          | Giá trị đất theo đánh giá |\n",
        "| imp_val           | Giá trị phần công trình (nhà, hạ tầng) |\n",
        "| year_built        | Năm xây dựng ban đầu |\n",
        "| year_reno         | Năm cải tạo (nếu có) |\n",
        "| sqft_lot          | Diện tích lô đất (square feet) |\n",
        "| sqft              | Tổng diện tích sàn sử dụng |\n",
        "| sqft_1            | Diện tích tầng 1 |\n",
        "| sqft_fbsmt        | Diện tích tầng hầm hoàn thiện |\n",
        "| grade             | Đánh giá chất lượng tổng thể |\n",
        "| fbsmt_grade       | Đánh giá tầng hầm hoàn thiện |\n",
        "| condition         | Tình trạng tổng thể của ngôi nhà |\n",
        "| stories           | Số tầng của ngôi nhà |\n",
        "| beds              | Số phòng ngủ |\n",
        "| bath_full         | Số phòng tắm đầy đủ |\n",
        "| bath_3qtr         | Số phòng tắm 3/4 |\n",
        "| bath_half         | Số phòng tắm 1/2 (chỉ có bồn rửa & toilet) |\n",
        "| garb_sqft         | Diện tích nhà để rác/nhà kho |\n",
        "| gara_sqft         | Diện tích garage (nhà để xe) |\n",
        "| wfnt              | Có nằm gần mặt nước không |\n",
        "| golf              | Có gần sân golf không |\n",
        "| greenbelt         | Có gần khu xanh (công viên, hành lang sinh thái không |\n",
        "| noise_traffic     | Mức độ tiếng ồn do giao thông |\n",
        "| view_rainier      | Tầm nhìn ra núi Rainier |\n",
        "| view_olympics     | Tầm nhìn ra dãy núi Olympics |\n",
        "| view_cascades     | Tầm nhìn ra dãy núi Cascades |\n",
        "| view_territorial  | Tầm nhìn toàn cảnh |\n",
        "| view_skyline      | Tầm nhìn đường chân trời thành phố |\n",
        "| view_sound        | Tầm nhìn ra biển Sound |\n",
        "| view_lakewash     | Tầm nhìn ra hồ Washington |\n",
        "| view_lakesamm     | Tầm nhìn ra hồ Sammamish |\n",
        "| view_otherwater   | Tầm nhìn ra các nguồn nước khác |\n",
        "| view_other        | Tầm nhìn khác |\n",
        "| submarket         | Phân khu thị trường nơi nhà tọa lạc |"
      ]
    },
    {
      "cell_type": "markdown",
      "metadata": {
        "id": "35YOYWfuGKzg"
      },
      "source": [
        "Cột `id` chỉ mang tính định danh và không chứa thông tin đặc trưng về bất động sản, không mang lại giá trị gì cho mô hình học máy nên ta sẽ xóa đi để đảm bảo dữ liệu đầu vào chỉ gồm các đặc trưng liên quan."
      ]
    },
    {
      "cell_type": "code",
      "execution_count": 7,
      "metadata": {
        "id": "mOuBfqTzGKzg"
      },
      "outputs": [],
      "source": [
        "df.drop(columns=['id'], inplace=True)"
      ]
    },
    {
      "cell_type": "markdown",
      "metadata": {
        "id": "QWzf2cwQGKzg"
      },
      "source": [
        "#### Kiểm tra kiểu dữ liệu của mỗi cột\n",
        "Kiểu dữ liệu hiện tại của các cột"
      ]
    },
    {
      "cell_type": "code",
      "execution_count": 8,
      "metadata": {
        "colab": {
          "base_uri": "https://localhost:8080/",
          "height": 1000
        },
        "id": "U2UV0Wk5GKzg",
        "outputId": "0232e651-f609-4451-8485-842d65efa654"
      },
      "outputs": [
        {
          "data": {
            "text/plain": [
              "sale_date            object\n",
              "sale_nbr            float64\n",
              "sale_warning         object\n",
              "join_status          object\n",
              "join_year             int64\n",
              "latitude            float64\n",
              "longitude           float64\n",
              "area                  int64\n",
              "city                 object\n",
              "zoning               object\n",
              "subdivision          object\n",
              "present_use           int64\n",
              "land_val              int64\n",
              "imp_val               int64\n",
              "year_built            int64\n",
              "year_reno             int64\n",
              "sqft_lot              int64\n",
              "sqft                  int64\n",
              "sqft_1                int64\n",
              "sqft_fbsmt            int64\n",
              "grade                 int64\n",
              "fbsmt_grade           int64\n",
              "condition             int64\n",
              "stories             float64\n",
              "beds                  int64\n",
              "bath_full             int64\n",
              "bath_3qtr             int64\n",
              "bath_half             int64\n",
              "garb_sqft             int64\n",
              "gara_sqft             int64\n",
              "wfnt                  int64\n",
              "golf                  int64\n",
              "greenbelt             int64\n",
              "noise_traffic         int64\n",
              "view_rainier          int64\n",
              "view_olympics         int64\n",
              "view_cascades         int64\n",
              "view_territorial      int64\n",
              "view_skyline          int64\n",
              "view_sound            int64\n",
              "view_lakewash         int64\n",
              "view_lakesamm         int64\n",
              "view_otherwater       int64\n",
              "view_other            int64\n",
              "submarket            object\n",
              "dtype: object"
            ]
          },
          "execution_count": 8,
          "metadata": {},
          "output_type": "execute_result"
        }
      ],
      "source": [
        "df.dtypes"
      ]
    },
    {
      "cell_type": "markdown",
      "metadata": {
        "id": "fUjk-apOGKzg"
      },
      "source": [
        "Cột có dữ liệu chưa phù hợp là `sale_date`, ta sẽ chuyển về kiểu dữ liệu phù hợp là datetime."
      ]
    },
    {
      "cell_type": "code",
      "execution_count": 9,
      "metadata": {
        "id": "7dT6EEDWGKzg"
      },
      "outputs": [],
      "source": [
        "df['sale_date'] = pd.to_datetime(df['sale_date'], errors='coerce')"
      ]
    },
    {
      "cell_type": "markdown",
      "metadata": {
        "id": "L9NH9-NNGKzg"
      },
      "source": [
        "Các cột có kiểu số nguyên nhưng mang ý nghĩa phân loại, như các cột nhị phân (ví dụ: `golf`, `greenbelt`), các cột phân loại có thứ tự (như `view_*`) hoặc các cột khác như `grade`, `fbsmt_grade`, ..., tổng cộng tất cả là 19 cột được ép kiểu sang category. Hai cột định tính là `city`, `submarket`,   `join_status` có tính chất phân loại nên ta cũng ép kiểu sang category. Việc này giúp phản ánh đúng bản chất dữ liệu, tối ưu bộ nhớ, hỗ trợ mô hình hóa và trực quan hóa chính xác hơn."
      ]
    },
    {
      "cell_type": "code",
      "execution_count": 10,
      "metadata": {
        "id": "gXGEwa-EGKzg"
      },
      "outputs": [],
      "source": [
        "cols_to_convert = ['grade', 'fbsmt_grade', 'condition', 'wfnt','golf', 'greenbelt', 'present_use', 'join_year', 'noise_traffic', 'view_rainier',\n",
        "                   'view_olympics',  'view_cascades', 'view_territorial', 'view_skyline', 'view_sound', 'view_lakewash', 'view_lakesamm',\n",
        "                   'view_otherwater', 'view_other', 'city', 'submarket', 'join_status']\n",
        "df[cols_to_convert] = df[cols_to_convert].astype('category')"
      ]
    },
    {
      "cell_type": "markdown",
      "metadata": {
        "id": "su9F9NSvGKzh"
      },
      "source": [
        "Kiểm tra lại dữ liệu các cột"
      ]
    },
    {
      "cell_type": "code",
      "execution_count": 11,
      "metadata": {
        "colab": {
          "base_uri": "https://localhost:8080/",
          "height": 1000
        },
        "id": "dHPOR2lHGKzh",
        "outputId": "1b92733c-fdaf-4a2f-9e99-87dd6fa4840d"
      },
      "outputs": [
        {
          "data": {
            "text/plain": [
              "sale_date           datetime64[ns]\n",
              "sale_nbr                   float64\n",
              "sale_warning                object\n",
              "join_status               category\n",
              "join_year                 category\n",
              "latitude                   float64\n",
              "longitude                  float64\n",
              "area                         int64\n",
              "city                      category\n",
              "zoning                      object\n",
              "subdivision                 object\n",
              "present_use               category\n",
              "land_val                     int64\n",
              "imp_val                      int64\n",
              "year_built                   int64\n",
              "year_reno                    int64\n",
              "sqft_lot                     int64\n",
              "sqft                         int64\n",
              "sqft_1                       int64\n",
              "sqft_fbsmt                   int64\n",
              "grade                     category\n",
              "fbsmt_grade               category\n",
              "condition                 category\n",
              "stories                    float64\n",
              "beds                         int64\n",
              "bath_full                    int64\n",
              "bath_3qtr                    int64\n",
              "bath_half                    int64\n",
              "garb_sqft                    int64\n",
              "gara_sqft                    int64\n",
              "wfnt                      category\n",
              "golf                      category\n",
              "greenbelt                 category\n",
              "noise_traffic             category\n",
              "view_rainier              category\n",
              "view_olympics             category\n",
              "view_cascades             category\n",
              "view_territorial          category\n",
              "view_skyline              category\n",
              "view_sound                category\n",
              "view_lakewash             category\n",
              "view_lakesamm             category\n",
              "view_otherwater           category\n",
              "view_other                category\n",
              "submarket                 category\n",
              "dtype: object"
            ]
          },
          "execution_count": 11,
          "metadata": {},
          "output_type": "execute_result"
        }
      ],
      "source": [
        "df.dtypes"
      ]
    },
    {
      "cell_type": "markdown",
      "metadata": {
        "id": "WmyIEhIgGKzh"
      },
      "source": [
        "Các cột đã có kiểu dữ liệu phù hợp."
      ]
    },
    {
      "cell_type": "markdown",
      "metadata": {
        "id": "3GsL-ViNGKzh"
      },
      "source": [
        "#### Sự phân bố dữ liệu của các cột có kiểu định lượng\n",
        "Các cột có dữ liệu định lượng"
      ]
    },
    {
      "cell_type": "code",
      "execution_count": 12,
      "metadata": {
        "colab": {
          "base_uri": "https://localhost:8080/"
        },
        "id": "TK3iSgk3GKzh",
        "outputId": "9d800399-bbf6-4eac-be4c-ec67a6f80377"
      },
      "outputs": [
        {
          "name": "stdout",
          "output_type": "stream",
          "text": [
            "Các cột có kiểu dữ liệu định lượng: \n",
            "sale_nbr\n",
            "latitude\n",
            "longitude\n",
            "area\n",
            "land_val\n",
            "imp_val\n",
            "year_built\n",
            "year_reno\n",
            "sqft_lot\n",
            "sqft\n",
            "sqft_1\n",
            "sqft_fbsmt\n",
            "stories\n",
            "beds\n",
            "bath_full\n",
            "bath_3qtr\n",
            "bath_half\n",
            "garb_sqft\n",
            "gara_sqft\n"
          ]
        }
      ],
      "source": [
        "numerical_columns = df.select_dtypes(include=['number']).columns.tolist()\n",
        "print('Các cột có kiểu dữ liệu định lượng: ')\n",
        "for col_name in numerical_columns:\n",
        "    print(col_name)"
      ]
    },
    {
      "cell_type": "markdown",
      "metadata": {
        "id": "6HGnUVlIGKzh"
      },
      "source": [
        "Dữ liệu định lượng được kiểm tra tính hợp lệ để loại bỏ các giá trị không logic (như diện tích âm, số tầng bằng 0). Việc này giúp đảm bảo độ tin cậy cho quá trình phân tích và huấn luyện mô hình."
      ]
    },
    {
      "cell_type": "code",
      "execution_count": 13,
      "metadata": {
        "colab": {
          "base_uri": "https://localhost:8080/"
        },
        "id": "EfTiB9uxGKzh",
        "outputId": "43a7b471-b164-429c-b02f-85b2549bad21"
      },
      "outputs": [
        {
          "name": "stdout",
          "output_type": "stream",
          "text": [
            "sqft_lot: 1 giá trị không hợp lệ\n"
          ]
        }
      ],
      "source": [
        "# Điều kiện kiểm tra hợp lệ\n",
        "invalid_conditions = {\n",
        "    'sale_nbr':      df['sale_nbr'] < 0,\n",
        "    'latitude':      (df['latitude'] < 45) | (df['latitude'] > 49),    # Seattle khoảng 47.xxx\n",
        "    'longitude':     (df['longitude'] < -124) | (df['longitude'] > -121),  # Seattle khoảng -122.xxx\n",
        "    'area':          df['area'] <= 0,\n",
        "    'land_val':      df['land_val'] < 0,\n",
        "    'imp_val':       df['imp_val'] < 0,\n",
        "    'year_built':    (df['year_built'] < 1500) | (df['year_built'] > 2025),\n",
        "    'year_reno':     (df['year_reno'] > 2025),  # Không cần kiểm tra <0 vì nhiều căn chưa sửa\n",
        "    'sqft_lot':      df['sqft_lot'] <= 0,\n",
        "    'sqft':          df['sqft'] <= 0,\n",
        "    'sqft_1':        df['sqft_1'] < 0,\n",
        "    'sqft_fbsmt':    df['sqft_fbsmt'] < 0,\n",
        "    'stories':       df['stories'] < 1,\n",
        "    'beds':          df['beds'] < 0,\n",
        "    'bath_full':     df['bath_full'] < 0,\n",
        "    'bath_3qtr':     df['bath_3qtr'] < 0,\n",
        "    'bath_half':     df['bath_half'] < 0,\n",
        "    'garb_sqft':     df['garb_sqft'] < 0,\n",
        "    'gara_sqft':     df['gara_sqft'] < 0,\n",
        "}\n",
        "\n",
        "# In ra số lượng dòng không hợp lệ cho mỗi cột\n",
        "for col, condition in invalid_conditions.items():\n",
        "    count = condition.sum()\n",
        "    if count > 0:\n",
        "        print(f\"{col}: {count} giá trị không hợp lệ\")"
      ]
    },
    {
      "cell_type": "markdown",
      "metadata": {
        "id": "et1_llGMGKzh"
      },
      "source": [
        "Một giá trị không hợp lệ được phát hiện ở cột sqft_lot (diện tích sàn nhỏ hơn 0). Dòng dữ liệu này dù sai nhưng vẫn sẽ dữ liệu ở tập dữ liệu Test."
      ]
    },
    {
      "cell_type": "markdown",
      "metadata": {
        "id": "V21thd0sGKzi"
      },
      "source": [
        "##### Tính toán các giá trị thống kê và xử lý giá trị thiếu"
      ]
    },
    {
      "cell_type": "markdown",
      "metadata": {
        "id": "IJvwIOjvGKzi"
      },
      "source": [
        "Với mỗi cột có kiểu dữ liệu định lượng, thực hiện tính toán các giá trị thống kê cơ bản sau:\n",
        "- Phần trăm (từ 0 đến 100) của giá trị thiếu\n",
        "- Giá trị nhỏ nhất (Min)\n",
        "- Tứ phân vị dưới (Lower quartile)\n",
        "- Trung vị (Median)\n",
        "- Tứ phân vị trên (Upper quartile)\n",
        "- Giá trị lớn nhất (Max)\n",
        "\n",
        "Các giá trị được làm tròn đến chữ số thập phân thứ nhất."
      ]
    },
    {
      "cell_type": "code",
      "execution_count": 14,
      "metadata": {
        "colab": {
          "base_uri": "https://localhost:8080/",
          "height": 662
        },
        "id": "pxjTnd3mGKzq",
        "outputId": "de225588-f9d9-4d7d-9d55-b2eb33fecf20"
      },
      "outputs": [
        {
          "data": {
            "text/html": [
              "<div>\n",
              "<style scoped>\n",
              "    .dataframe tbody tr th:only-of-type {\n",
              "        vertical-align: middle;\n",
              "    }\n",
              "\n",
              "    .dataframe tbody tr th {\n",
              "        vertical-align: top;\n",
              "    }\n",
              "\n",
              "    .dataframe thead th {\n",
              "        text-align: right;\n",
              "    }\n",
              "</style>\n",
              "<table border=\"1\" class=\"dataframe\">\n",
              "  <thead>\n",
              "    <tr style=\"text-align: right;\">\n",
              "      <th></th>\n",
              "      <th>Tỷ lệ giá trị thiếu</th>\n",
              "      <th>Giá trị nhỏ nhất</th>\n",
              "      <th>Tứ phân vị dưới</th>\n",
              "      <th>Trung vị</th>\n",
              "      <th>Tứ phân vị trên</th>\n",
              "      <th>Giá trị lớn nhất</th>\n",
              "    </tr>\n",
              "  </thead>\n",
              "  <tbody>\n",
              "    <tr>\n",
              "      <th>sale_nbr</th>\n",
              "      <td>21.2</td>\n",
              "      <td>1.0</td>\n",
              "      <td>1.0</td>\n",
              "      <td>2.0</td>\n",
              "      <td>3.0</td>\n",
              "      <td>15.0</td>\n",
              "    </tr>\n",
              "    <tr>\n",
              "      <th>latitude</th>\n",
              "      <td>0.0</td>\n",
              "      <td>47.2</td>\n",
              "      <td>47.4</td>\n",
              "      <td>47.6</td>\n",
              "      <td>47.7</td>\n",
              "      <td>47.8</td>\n",
              "    </tr>\n",
              "    <tr>\n",
              "      <th>longitude</th>\n",
              "      <td>0.0</td>\n",
              "      <td>-122.5</td>\n",
              "      <td>-122.3</td>\n",
              "      <td>-122.2</td>\n",
              "      <td>-122.1</td>\n",
              "      <td>-121.2</td>\n",
              "    </tr>\n",
              "    <tr>\n",
              "      <th>area</th>\n",
              "      <td>0.0</td>\n",
              "      <td>1.0</td>\n",
              "      <td>26.0</td>\n",
              "      <td>48.0</td>\n",
              "      <td>71.0</td>\n",
              "      <td>100.0</td>\n",
              "    </tr>\n",
              "    <tr>\n",
              "      <th>land_val</th>\n",
              "      <td>0.0</td>\n",
              "      <td>0.0</td>\n",
              "      <td>232000.0</td>\n",
              "      <td>379000.0</td>\n",
              "      <td>598000.0</td>\n",
              "      <td>12115000.0</td>\n",
              "    </tr>\n",
              "    <tr>\n",
              "      <th>imp_val</th>\n",
              "      <td>0.0</td>\n",
              "      <td>0.0</td>\n",
              "      <td>281000.0</td>\n",
              "      <td>409000.0</td>\n",
              "      <td>598000.0</td>\n",
              "      <td>8579000.0</td>\n",
              "    </tr>\n",
              "    <tr>\n",
              "      <th>year_built</th>\n",
              "      <td>0.0</td>\n",
              "      <td>1900.0</td>\n",
              "      <td>1953.0</td>\n",
              "      <td>1978.0</td>\n",
              "      <td>2001.0</td>\n",
              "      <td>2025.0</td>\n",
              "    </tr>\n",
              "    <tr>\n",
              "      <th>year_reno</th>\n",
              "      <td>0.0</td>\n",
              "      <td>0.0</td>\n",
              "      <td>0.0</td>\n",
              "      <td>0.0</td>\n",
              "      <td>0.0</td>\n",
              "      <td>2024.0</td>\n",
              "    </tr>\n",
              "    <tr>\n",
              "      <th>sqft_lot</th>\n",
              "      <td>0.0</td>\n",
              "      <td>0.0</td>\n",
              "      <td>5000.0</td>\n",
              "      <td>7426.0</td>\n",
              "      <td>10213.0</td>\n",
              "      <td>9539640.0</td>\n",
              "    </tr>\n",
              "    <tr>\n",
              "      <th>sqft</th>\n",
              "      <td>0.0</td>\n",
              "      <td>82.0</td>\n",
              "      <td>1460.0</td>\n",
              "      <td>1970.0</td>\n",
              "      <td>2610.0</td>\n",
              "      <td>12000.0</td>\n",
              "    </tr>\n",
              "    <tr>\n",
              "      <th>sqft_1</th>\n",
              "      <td>0.0</td>\n",
              "      <td>70.0</td>\n",
              "      <td>960.0</td>\n",
              "      <td>1200.0</td>\n",
              "      <td>1470.0</td>\n",
              "      <td>6620.0</td>\n",
              "    </tr>\n",
              "    <tr>\n",
              "      <th>sqft_fbsmt</th>\n",
              "      <td>0.0</td>\n",
              "      <td>0.0</td>\n",
              "      <td>0.0</td>\n",
              "      <td>0.0</td>\n",
              "      <td>570.0</td>\n",
              "      <td>4590.0</td>\n",
              "    </tr>\n",
              "    <tr>\n",
              "      <th>stories</th>\n",
              "      <td>0.0</td>\n",
              "      <td>1.0</td>\n",
              "      <td>1.0</td>\n",
              "      <td>1.5</td>\n",
              "      <td>2.0</td>\n",
              "      <td>4.0</td>\n",
              "    </tr>\n",
              "    <tr>\n",
              "      <th>beds</th>\n",
              "      <td>0.0</td>\n",
              "      <td>0.0</td>\n",
              "      <td>3.0</td>\n",
              "      <td>3.0</td>\n",
              "      <td>4.0</td>\n",
              "      <td>14.0</td>\n",
              "    </tr>\n",
              "    <tr>\n",
              "      <th>bath_full</th>\n",
              "      <td>0.0</td>\n",
              "      <td>0.0</td>\n",
              "      <td>1.0</td>\n",
              "      <td>2.0</td>\n",
              "      <td>2.0</td>\n",
              "      <td>7.0</td>\n",
              "    </tr>\n",
              "    <tr>\n",
              "      <th>bath_3qtr</th>\n",
              "      <td>0.0</td>\n",
              "      <td>0.0</td>\n",
              "      <td>0.0</td>\n",
              "      <td>0.0</td>\n",
              "      <td>1.0</td>\n",
              "      <td>9.0</td>\n",
              "    </tr>\n",
              "    <tr>\n",
              "      <th>bath_half</th>\n",
              "      <td>0.0</td>\n",
              "      <td>0.0</td>\n",
              "      <td>0.0</td>\n",
              "      <td>0.0</td>\n",
              "      <td>1.0</td>\n",
              "      <td>7.0</td>\n",
              "    </tr>\n",
              "    <tr>\n",
              "      <th>garb_sqft</th>\n",
              "      <td>0.0</td>\n",
              "      <td>0.0</td>\n",
              "      <td>0.0</td>\n",
              "      <td>0.0</td>\n",
              "      <td>0.0</td>\n",
              "      <td>3490.0</td>\n",
              "    </tr>\n",
              "    <tr>\n",
              "      <th>gara_sqft</th>\n",
              "      <td>0.0</td>\n",
              "      <td>0.0</td>\n",
              "      <td>0.0</td>\n",
              "      <td>240.0</td>\n",
              "      <td>480.0</td>\n",
              "      <td>5450.0</td>\n",
              "    </tr>\n",
              "  </tbody>\n",
              "</table>\n",
              "</div>"
            ],
            "text/plain": [
              "            Tỷ lệ giá trị thiếu  Giá trị nhỏ nhất  Tứ phân vị dưới  Trung vị  \\\n",
              "sale_nbr                   21.2               1.0              1.0       2.0   \n",
              "latitude                    0.0              47.2             47.4      47.6   \n",
              "longitude                   0.0            -122.5           -122.3    -122.2   \n",
              "area                        0.0               1.0             26.0      48.0   \n",
              "land_val                    0.0               0.0         232000.0  379000.0   \n",
              "imp_val                     0.0               0.0         281000.0  409000.0   \n",
              "year_built                  0.0            1900.0           1953.0    1978.0   \n",
              "year_reno                   0.0               0.0              0.0       0.0   \n",
              "sqft_lot                    0.0               0.0           5000.0    7426.0   \n",
              "sqft                        0.0              82.0           1460.0    1970.0   \n",
              "sqft_1                      0.0              70.0            960.0    1200.0   \n",
              "sqft_fbsmt                  0.0               0.0              0.0       0.0   \n",
              "stories                     0.0               1.0              1.0       1.5   \n",
              "beds                        0.0               0.0              3.0       3.0   \n",
              "bath_full                   0.0               0.0              1.0       2.0   \n",
              "bath_3qtr                   0.0               0.0              0.0       0.0   \n",
              "bath_half                   0.0               0.0              0.0       0.0   \n",
              "garb_sqft                   0.0               0.0              0.0       0.0   \n",
              "gara_sqft                   0.0               0.0              0.0     240.0   \n",
              "\n",
              "            Tứ phân vị trên  Giá trị lớn nhất  \n",
              "sale_nbr                3.0              15.0  \n",
              "latitude               47.7              47.8  \n",
              "longitude            -122.1            -121.2  \n",
              "area                   71.0             100.0  \n",
              "land_val           598000.0        12115000.0  \n",
              "imp_val            598000.0         8579000.0  \n",
              "year_built           2001.0            2025.0  \n",
              "year_reno               0.0            2024.0  \n",
              "sqft_lot            10213.0         9539640.0  \n",
              "sqft                 2610.0           12000.0  \n",
              "sqft_1               1470.0            6620.0  \n",
              "sqft_fbsmt            570.0            4590.0  \n",
              "stories                 2.0               4.0  \n",
              "beds                    4.0              14.0  \n",
              "bath_full               2.0               7.0  \n",
              "bath_3qtr               1.0               9.0  \n",
              "bath_half               1.0               7.0  \n",
              "garb_sqft               0.0            3490.0  \n",
              "gara_sqft             480.0            5450.0  "
            ]
          },
          "execution_count": 14,
          "metadata": {},
          "output_type": "execute_result"
        }
      ],
      "source": [
        "# Chọn ra những cột có kiểu định lượng\n",
        "numeric_cols = df.select_dtypes(include=['number']).columns\n",
        "\n",
        "# Tính toán các giá trị thống kê\n",
        "def missing_ratio(series):\n",
        "    return series.isnull().mean() * 100\n",
        "\n",
        "def lower_quartile(series):\n",
        "    return series.quantile(0.25)\n",
        "\n",
        "def median(series):\n",
        "    return series.median()\n",
        "\n",
        "def upper_quartile(series):\n",
        "    return series.quantile(0.75)\n",
        "\n",
        "min_vals = df[numeric_cols].min()\n",
        "max_vals = df[numeric_cols].max()\n",
        "lower_quartiles = df[numeric_cols].apply(lower_quartile)\n",
        "medians = df[numeric_cols].median()\n",
        "upper_quartiles = df[numeric_cols].apply(upper_quartile)\n",
        "\n",
        "# Tạo một DataFrame chứa các giá trị thống kê của những cột định lượng\n",
        "num_col_info_df = pd.DataFrame({\n",
        "    \"Tỷ lệ giá trị thiếu\": df[numeric_cols].apply(missing_ratio).round(1),\n",
        "    \"Giá trị nhỏ nhất\": min_vals.round(1),\n",
        "    \"Tứ phân vị dưới\": lower_quartiles.round(1),\n",
        "    \"Trung vị\": medians.round(1),\n",
        "    \"Tứ phân vị trên\": upper_quartiles.round(1),\n",
        "    \"Giá trị lớn nhất\": max_vals.round(1)\n",
        "}).T\n",
        "\n",
        "# In ra\n",
        "num_col_info_df = num_col_info_df.T  # Đảo chiều\n",
        "num_col_info_df"
      ]
    },
    {
      "cell_type": "markdown",
      "metadata": {
        "id": "VAtt6A79GKzr"
      },
      "source": [
        "**Nhận xét**: Một cột chứa giá trị thiếu là `sale_nbr` với tỷ lệ lên đến 21%.\n",
        "\n",
        "Vì không có thông tin về số lần bất động sản đã được bán trước đó, ta tạm giả định rằng những dòng thiếu dữ liệu ở cột sale_nbr là các trường hợp chưa từng được bán (tức là nhà mới hoàn toàn). Do đó, ta sẽ:\n",
        "\n",
        "- Điền các giá trị thiếu trong sale_nbr bằng 0.\n",
        "\n",
        "- Đồng thời tạo thêm một cột mới (sale_nbr_missing) để đánh dấu các dòng mà dữ liệu ban đầu bị thiếu, nhằm giữ lại thông tin này cho các bước phân tích và mô hình hóa sau."
      ]
    },
    {
      "cell_type": "code",
      "execution_count": 15,
      "metadata": {
        "id": "8AYDaedOGKzr"
      },
      "outputs": [],
      "source": [
        "df['sale_nbr_missing'] = df['sale_nbr'].isnull().astype(int)\n",
        "\n",
        "df['sale_nbr'] = df['sale_nbr'].fillna(0)"
      ]
    },
    {
      "cell_type": "markdown",
      "metadata": {
        "id": "0hUsrSUDGKzr"
      },
      "source": [
        "##### Sự phân bố dữ liệu"
      ]
    },
    {
      "cell_type": "markdown",
      "metadata": {
        "id": "j35SO1U4GKzr"
      },
      "source": [
        "Trực quan hóa phân bố của các cột kiểu numerical trong bộ dữ liệu linh hoạt phù hợp với bản chất của từng cột (rời rạc, liên tục,...). Trong đó:\n",
        "\n",
        "- Loại bỏ cột ID vì đây là định danh duy nhất, không mang thông tin phân phối hay giá trị thống kê\n",
        "\n",
        "- Nếu số lượng giá trị duy nhất ít hơn hoặc bằng 20 thì xác định đây là dữ liệu rời rạc\n",
        "\n",
        "- Nếu dữ liệu lệch phải nghiêm trọng (skewness > 1) và không có gì trị âm thì dùng `np.log1p()` để nén các giá trị lớn đồng thời làm mượt biểu đồ histogram\n",
        "\n",
        "- Nếu dữ liệu không quá lệch hoặc không dùng được log thì dùng `clip(0.01, 0.99)` để loại bỏ outliers ảnh hưởng đến biểu đồ để tránh việc vài giá trị lớn làm \"dẹt\" histogram"
      ]
    },
    {
      "cell_type": "code",
      "execution_count": 16,
      "metadata": {
        "id": "W_8leJEVGKzr"
      },
      "outputs": [],
      "source": [
        "def smart_plot(df, columns, ncols=3):\n",
        "    cols = [col for col in columns if col.lower() != 'id']\n",
        "    nrows = math.ceil(len(cols) / ncols)\n",
        "    plt.figure(figsize=(ncols*5, nrows*3))\n",
        "\n",
        "    for i, col in enumerate(cols):\n",
        "        plt.subplot(nrows, ncols, i+1)\n",
        "\n",
        "        nunique = df[col].nunique()\n",
        "        if pd.api.types.is_numeric_dtype(df[col]):\n",
        "            skew = df[col].skew()\n",
        "            min_val = df[col].min()\n",
        "\n",
        "            if nunique <= 20:\n",
        "                sns.countplot(x=col, data=df, order=df[col].value_counts().index)\n",
        "            elif skew > 1 and min_val >= 0:\n",
        "                sns.histplot(np.log1p(df[col]), bins=50)\n",
        "                plt.xlabel(f\"log1p({col})\")\n",
        "            else:\n",
        "                # Clip để giảm ảnh hưởng của outliers (1%–99%)\n",
        "                low = df[col].quantile(0.01)\n",
        "                high = df[col].quantile(0.99)\n",
        "                clipped = df[col].clip(lower=low, upper=high)\n",
        "                sns.histplot(clipped, bins=50)\n",
        "                plt.xlabel(f\"{col} (clipped)\")\n",
        "        else:\n",
        "            sns.countplot(x=col, data=df, order=df[col].value_counts().index)\n",
        "\n",
        "        plt.title(f'Phân bố {col}')\n",
        "\n",
        "    plt.tight_layout()\n",
        "    plt.show()"
      ]
    },
    {
      "cell_type": "code",
      "execution_count": 17,
      "metadata": {
        "colab": {
          "base_uri": "https://localhost:8080/",
          "height": 1000
        },
        "id": "otxJZLgEGKzr",
        "outputId": "ff3c22ce-8c05-40dc-faa4-c70f13bc277f"
      },
      "outputs": [
        {
          "data": {
            "image/png": "[encoded data removed]",
            "text/plain": [
              "<Figure size 1500x2100 with 19 Axes>"
            ]
          },
          "metadata": {},
          "output_type": "display_data"
        }
      ],
      "source": [
        "smart_plot(df, numerical_columns)"
      ]
    },
    {
      "cell_type": "markdown",
      "metadata": {
        "id": "l3w4yOaLGKzr"
      },
      "source": [
        "**Nhận xét**\n",
        "\n",
        "- Cột mục tiêu `sale_price` rất lệch phải cho thấy có nhiều giá trị nhỏ và rất ít giá trị cực lớn. Sau khi log1p(), phân phối trở nên gần phân phối chuẩn giúp mô hình học dễ hơn $\\Rightarrow$ nên dùng `log1p(sale_price)` khi train và `expm1()` để chuyển kết quả ngược lại giúp tránh việc model bị chi phối bởi một vài căn nhà giá \"khủng\".\n",
        "\n",
        "- Cột `year_built` phân bố khá đều nhưng cột `year_reno` rất lệch (nhiều giá trị 0) cho thấy rất nhiều căn nhà chưa từng được cải tạo\n",
        "\n",
        "- Cột `latitude` và `longtitude` có phân cụm, điều này cho thấy rằng dữ liệu đến từ nhiều khu vực khác nhau, giúp mô hình học được hiệu quả hơn"
      ]
    },
    {
      "cell_type": "markdown",
      "metadata": {
        "id": "hMeH24u2GKzr"
      },
      "source": [
        "##### Xử lý dữ liệu lỗi hoặc bất thường"
      ]
    },
    {
      "cell_type": "code",
      "execution_count": 18,
      "metadata": {
        "colab": {
          "base_uri": "https://localhost:8080/",
          "height": 645
        },
        "id": "5vkRkUe5GKzs",
        "outputId": "44f9037c-fe20-4ee8-b24c-57497af9ee23"
      },
      "outputs": [
        {
          "data": {
            "text/html": [
              "<div>\n",
              "<style scoped>\n",
              "    .dataframe tbody tr th:only-of-type {\n",
              "        vertical-align: middle;\n",
              "    }\n",
              "\n",
              "    .dataframe tbody tr th {\n",
              "        vertical-align: top;\n",
              "    }\n",
              "\n",
              "    .dataframe thead th {\n",
              "        text-align: right;\n",
              "    }\n",
              "</style>\n",
              "<table border=\"1\" class=\"dataframe\">\n",
              "  <thead>\n",
              "    <tr style=\"text-align: right;\">\n",
              "      <th></th>\n",
              "      <th>Số giá trị ngoại lai</th>\n",
              "      <th>Tỷ lệ giá trị ngoại lai</th>\n",
              "    </tr>\n",
              "  </thead>\n",
              "  <tbody>\n",
              "    <tr>\n",
              "      <th>sale_nbr</th>\n",
              "      <td>18571.0</td>\n",
              "      <td>0.092855</td>\n",
              "    </tr>\n",
              "    <tr>\n",
              "      <th>latitude</th>\n",
              "      <td>0.0</td>\n",
              "      <td>0.000000</td>\n",
              "    </tr>\n",
              "    <tr>\n",
              "      <th>longitude</th>\n",
              "      <td>2581.0</td>\n",
              "      <td>0.012905</td>\n",
              "    </tr>\n",
              "    <tr>\n",
              "      <th>area</th>\n",
              "      <td>0.0</td>\n",
              "      <td>0.000000</td>\n",
              "    </tr>\n",
              "    <tr>\n",
              "      <th>land_val</th>\n",
              "      <td>7408.0</td>\n",
              "      <td>0.037040</td>\n",
              "    </tr>\n",
              "    <tr>\n",
              "      <th>imp_val</th>\n",
              "      <td>13836.0</td>\n",
              "      <td>0.069180</td>\n",
              "    </tr>\n",
              "    <tr>\n",
              "      <th>year_built</th>\n",
              "      <td>0.0</td>\n",
              "      <td>0.000000</td>\n",
              "    </tr>\n",
              "    <tr>\n",
              "      <th>year_reno</th>\n",
              "      <td>6095.0</td>\n",
              "      <td>0.030475</td>\n",
              "    </tr>\n",
              "    <tr>\n",
              "      <th>sqft_lot</th>\n",
              "      <td>21147.0</td>\n",
              "      <td>0.105735</td>\n",
              "    </tr>\n",
              "    <tr>\n",
              "      <th>sqft</th>\n",
              "      <td>4439.0</td>\n",
              "      <td>0.022195</td>\n",
              "    </tr>\n",
              "    <tr>\n",
              "      <th>sqft_1</th>\n",
              "      <td>6720.0</td>\n",
              "      <td>0.033600</td>\n",
              "    </tr>\n",
              "    <tr>\n",
              "      <th>sqft_fbsmt</th>\n",
              "      <td>4451.0</td>\n",
              "      <td>0.022255</td>\n",
              "    </tr>\n",
              "    <tr>\n",
              "      <th>stories</th>\n",
              "      <td>40.0</td>\n",
              "      <td>0.000200</td>\n",
              "    </tr>\n",
              "    <tr>\n",
              "      <th>beds</th>\n",
              "      <td>4460.0</td>\n",
              "      <td>0.022300</td>\n",
              "    </tr>\n",
              "    <tr>\n",
              "      <th>bath_full</th>\n",
              "      <td>1572.0</td>\n",
              "      <td>0.007860</td>\n",
              "    </tr>\n",
              "    <tr>\n",
              "      <th>bath_3qtr</th>\n",
              "      <td>995.0</td>\n",
              "      <td>0.004975</td>\n",
              "    </tr>\n",
              "    <tr>\n",
              "      <th>bath_half</th>\n",
              "      <td>106.0</td>\n",
              "      <td>0.000530</td>\n",
              "    </tr>\n",
              "    <tr>\n",
              "      <th>garb_sqft</th>\n",
              "      <td>42218.0</td>\n",
              "      <td>0.211090</td>\n",
              "    </tr>\n",
              "    <tr>\n",
              "      <th>gara_sqft</th>\n",
              "      <td>541.0</td>\n",
              "      <td>0.002705</td>\n",
              "    </tr>\n",
              "  </tbody>\n",
              "</table>\n",
              "</div>"
            ],
            "text/plain": [
              "            Số giá trị ngoại lai  Tỷ lệ giá trị ngoại lai\n",
              "sale_nbr                 18571.0                 0.092855\n",
              "latitude                     0.0                 0.000000\n",
              "longitude                 2581.0                 0.012905\n",
              "area                         0.0                 0.000000\n",
              "land_val                  7408.0                 0.037040\n",
              "imp_val                  13836.0                 0.069180\n",
              "year_built                   0.0                 0.000000\n",
              "year_reno                 6095.0                 0.030475\n",
              "sqft_lot                 21147.0                 0.105735\n",
              "sqft                      4439.0                 0.022195\n",
              "sqft_1                    6720.0                 0.033600\n",
              "sqft_fbsmt                4451.0                 0.022255\n",
              "stories                     40.0                 0.000200\n",
              "beds                      4460.0                 0.022300\n",
              "bath_full                 1572.0                 0.007860\n",
              "bath_3qtr                  995.0                 0.004975\n",
              "bath_half                  106.0                 0.000530\n",
              "garb_sqft                42218.0                 0.211090\n",
              "gara_sqft                  541.0                 0.002705"
            ]
          },
          "execution_count": 18,
          "metadata": {},
          "output_type": "execute_result"
        }
      ],
      "source": [
        "# Hàm đếm outlier dựa trên quy tắc Tukey\n",
        "def count_outliers(data, column):\n",
        "    Q1 = data[column].quantile(0.25)  # Phân vị thứ 25\n",
        "    Q3 = data[column].quantile(0.75)  # Phân vị thứ 75\n",
        "    IQR = Q3 - Q1                    # Khoảng tứ phân vị (IQR)\n",
        "    lower_bound = Q1 - 1.5 * IQR     # Ngưỡng dưới\n",
        "    upper_bound = Q3 + 1.5 * IQR     # Ngưỡng trên\n",
        "    outliers = data[(data[column] < lower_bound) | (data[column] > upper_bound)]\n",
        "\n",
        "    # Kiểm tra nếu ngưỡng dưới âm và điều chỉnh\n",
        "    if lower_bound < 0:\n",
        "        lower_bound = 0  # Đặt lại ngưỡng dưới bằng 0 vì nếu mang giá trị âm sẽ không hợp lý với dữ liệu\n",
        "\n",
        "    return len(outliers)\n",
        "\n",
        "def count_outliers_for_all_columns(data, numerical_columns):\n",
        "    outliers_info = {}\n",
        "    for column in numerical_columns:\n",
        "        outlier_count = count_outliers(data, column)\n",
        "\n",
        "        # Lưu kết quả vào info\n",
        "        outliers_info[column] = {\n",
        "            'Số giá trị ngoại lai': outlier_count,\n",
        "            'Tỷ lệ giá trị ngoại lai': outlier_count / data.shape[0]\n",
        "        }\n",
        "\n",
        "    return outliers_info\n",
        "\n",
        "# In kết quả\n",
        "outliers_data = pd.DataFrame(count_outliers_for_all_columns(df, numerical_columns))\n",
        "outliers_data = outliers_data.T  # Đảo chiều\n",
        "outliers_data"
      ]
    },
    {
      "cell_type": "markdown",
      "metadata": {
        "id": "5LpQbSq1GKzs"
      },
      "source": [
        "**Nhận xét**:\n",
        "Nhiều biến định lượng xuất hiện giá trị ngoại lai với tỷ lệ khác nhau.\n",
        "\n",
        "Một số cột như `garb_sqft` và `sqft_lot` có tỷ lệ ngoại lai cao (trên 10%), cho thấy sự phân bố không đều hoặc tồn tại các giá trị bất thường lớn. Các cột như `sale_price`, `sale_nbr`và `imp_val` có tỷ lệ ngoại lai từ 5 - 10% trong khi các cột như `longtitude`, `land_val`, `year_reno`, `sqft`, `sqft_1`, `sqft_fbsmt` và `beds` đạt từ 1 - 5% . Các cột còn lại có tỷ lệ ngoại lai rất thấp, gần như không ảnh hưởng đến phân tích.\n",
        "\n",
        "Việc xử lý ngoại lai là cần thiết để đảm bảo độ ổn định và độ chính xác cho các mô hình sau này."
      ]
    },
    {
      "cell_type": "markdown",
      "metadata": {
        "id": "P9rMd_SlGKzs"
      },
      "source": [
        "- Cột `sale_price` có ngoại lai vì giá nhà có thể cao, cột này không xử lý ở đây mà dành cho phần mô hình học máy."
      ]
    },
    {
      "cell_type": "markdown",
      "metadata": {
        "id": "zI4s196BGKzs"
      },
      "source": [
        "- Các `sqft`, `sqft_1`, `sqft_fbsmt` và `beds` có giá trị ngoại lai là hợp lý vì có các căn hộ diện tích rất lớn như biệt thự, cũng sẽ có nhiều phòng ngủ. Cột `year_reno` có giá trị ngoại lai là do nhiều căn nhà không phải sửa chữa, các căn có sửa chữa ở các năm khác nhau nên cũng hợp lý. Cột `land_val` có giá trị đất cao sẽ thường xảy ra ở các khu vực trung tâm nên ngoại lai hợp lý. Tất cả các cột này có giá trị ngoại lai rất thấp từ 1% - 5%, ảnh hưởng nhỏ đến mô hình nên ta sẽ giữ lại và không xử lý gì thêm để tránh mất thông tin có giá trị."
      ]
    },
    {
      "cell_type": "markdown",
      "metadata": {
        "id": "f0Myy_wOGKzs"
      },
      "source": [
        "- Cột `garb_sqft` có tỷ lệ ngoại lai rất cao (20.9%). Ở biểu đồ xem sự phân bố dữ liệu, thì ta có thể thấy hơn 80% là giá trị bằng 0 (tức là không có nhà kho), còn lại là những ngôi nhà có nhà kho và có những căn có nhà kho rất lớn (phù hợp với diện tích những ngôi biệt thự có diện tích cực lớn). Phản ánh rõ hai nhóm là có và không có nhà kho. Do đó, 20.9% giá trị trên không hẳn xem là ngoại lai nên ta sẽ áp dụng `log-transform` giúp giảm ảnh hưởng của phần giá trị lớn nhưng vẫn giữ lại toàn bộ thông tin mà không cần loại bỏ dữ liệu.\n",
        "\n",
        "- Cột `sqft_lot` có ngoại lai trên 10%, một số lô đất rất lớn có thể hợp lý nên cột này ta sẽ lựa chọn `log-transform` để giảm ảnh hưởng của phân phối lệch thay vì phải loại bỏ.\n",
        "\n",
        "- Hai cột `sale_nbr` và `imp_val` cũng là các cột có giá trị ngoại lai cao nhưng phản ảnh đúng thực tế là giao dịch ở vùng trung tâm có thể cao hơn nên các cột này ta cũng giữ lại và xử lý bằng `log-transform`."
      ]
    },
    {
      "cell_type": "code",
      "execution_count": 19,
      "metadata": {
        "id": "wu4zY1irGKzs"
      },
      "outputs": [],
      "source": [
        "# Áp dụng log1p (log(1 + x))\n",
        "df['garb_sqft_log'] = np.log1p(df['garb_sqft'])\n",
        "df['sqft_lot_log'] = np.log1p(df['sqft_lot'])\n",
        "df['sale_nbr_log'] = np.log1p(df['sale_nbr'])\n",
        "df['imp_val_log'] = np.log1p(df['imp_val'])"
      ]
    },
    {
      "cell_type": "code",
      "execution_count": 20,
      "metadata": {},
      "outputs": [
        {
          "data": {
            "image/png": "[encoded data removed]",
            "text/plain": [
              "<Figure size 1000x400 with 2 Axes>"
            ]
          },
          "metadata": {},
          "output_type": "display_data"
        },
        {
          "data": {
            "image/png": "[encoded data removed]",
            "text/plain": [
              "<Figure size 1000x400 with 2 Axes>"
            ]
          },
          "metadata": {},
          "output_type": "display_data"
        },
        {
          "data": {
            "image/png": "[encoded data removed]",
            "text/plain": [
              "<Figure size 1000x400 with 2 Axes>"
            ]
          },
          "metadata": {},
          "output_type": "display_data"
        },
        {
          "data": {
            "image/png": "[encoded data removed]",
            "text/plain": [
              "<Figure size 1000x400 with 2 Axes>"
            ]
          },
          "metadata": {},
          "output_type": "display_data"
        }
      ],
      "source": [
        "cols = ['garb_sqft', 'sqft_lot', 'sale_nbr', 'imp_val']\n",
        "for col in cols:\n",
        "    # Biểu đồ phân phối gốc\n",
        "    plt.figure(figsize=(10, 4))\n",
        "    plt.subplot(1, 2, 1)\n",
        "    plt.hist(df[col], bins=50, color='skyblue', edgecolor='black')\n",
        "    plt.title(f'Phân phối gốc: {col}')\n",
        "\n",
        "    # Biểu đồ phân phối sau log-transform\n",
        "    plt.subplot(1, 2, 2)\n",
        "    plt.hist(np.log1p(df[col]), bins=50, color='salmon', edgecolor='black')\n",
        "    plt.title(f'Sau log1p: {col}')\n",
        "    plt.tight_layout()\n",
        "    plt.show()"
      ]
    },
    {
      "cell_type": "markdown",
      "metadata": {
        "id": "OSj4hc5KGKzt"
      },
      "source": [
        "#### Sự phân bố dữ liệu của các cột có kiểu định tính\n",
        "Các cột có kiểu dữ liệu định tính"
      ]
    },
    {
      "cell_type": "code",
      "execution_count": 21,
      "metadata": {
        "colab": {
          "base_uri": "https://localhost:8080/"
        },
        "id": "KXWxZGK_GKzt",
        "outputId": "c7d34d65-f689-4213-cfb2-e0e29c7f39e0"
      },
      "outputs": [
        {
          "name": "stdout",
          "output_type": "stream",
          "text": [
            "Các cột có kiểu dữ liệu định tính: \n",
            "sale_date\n",
            "sale_warning\n",
            "join_status\n",
            "join_year\n",
            "city\n",
            "zoning\n",
            "subdivision\n",
            "present_use\n",
            "grade\n",
            "fbsmt_grade\n",
            "condition\n",
            "wfnt\n",
            "golf\n",
            "greenbelt\n",
            "noise_traffic\n",
            "view_rainier\n",
            "view_olympics\n",
            "view_cascades\n",
            "view_territorial\n",
            "view_skyline\n",
            "view_sound\n",
            "view_lakewash\n",
            "view_lakesamm\n",
            "view_otherwater\n",
            "view_other\n",
            "submarket\n"
          ]
        }
      ],
      "source": [
        "categorical_columns = df.select_dtypes(exclude=['number']).columns.tolist()\n",
        "print('Các cột có kiểu dữ liệu định tính: ')\n",
        "for col_name in categorical_columns:\n",
        "    print(col_name)"
      ]
    },
    {
      "cell_type": "markdown",
      "metadata": {
        "id": "UZNYTNSeGKzu"
      },
      "source": [
        "#### Tỉ lệ phần trăm các giá trị bị thiếu trong mỗi cột"
      ]
    },
    {
      "cell_type": "markdown",
      "metadata": {
        "id": "OwphhRX3GKzu"
      },
      "source": [
        "Với mỗi cột có kiểu dữ liệu định tính, thực hiện tính toán phần trăm (từ 0 đến 100) của giá trị thiếu\n",
        "\n",
        "Các giá trị được làm tròn đến chữ số thập phân thứ nhất."
      ]
    },
    {
      "cell_type": "code",
      "execution_count": 22,
      "metadata": {
        "colab": {
          "base_uri": "https://localhost:8080/",
          "height": 864
        },
        "id": "8pygoehYGKzu",
        "outputId": "1002df96-4916-4f11-9667-389c9254bb2b"
      },
      "outputs": [
        {
          "data": {
            "text/html": [
              "<div>\n",
              "<style scoped>\n",
              "    .dataframe tbody tr th:only-of-type {\n",
              "        vertical-align: middle;\n",
              "    }\n",
              "\n",
              "    .dataframe tbody tr th {\n",
              "        vertical-align: top;\n",
              "    }\n",
              "\n",
              "    .dataframe thead th {\n",
              "        text-align: right;\n",
              "    }\n",
              "</style>\n",
              "<table border=\"1\" class=\"dataframe\">\n",
              "  <thead>\n",
              "    <tr style=\"text-align: right;\">\n",
              "      <th></th>\n",
              "      <th>Tỷ lệ giá trị thiếu (%)</th>\n",
              "    </tr>\n",
              "  </thead>\n",
              "  <tbody>\n",
              "    <tr>\n",
              "      <th>sale_date</th>\n",
              "      <td>0.0</td>\n",
              "    </tr>\n",
              "    <tr>\n",
              "      <th>sale_warning</th>\n",
              "      <td>90.3</td>\n",
              "    </tr>\n",
              "    <tr>\n",
              "      <th>join_status</th>\n",
              "      <td>0.0</td>\n",
              "    </tr>\n",
              "    <tr>\n",
              "      <th>join_year</th>\n",
              "      <td>0.0</td>\n",
              "    </tr>\n",
              "    <tr>\n",
              "      <th>city</th>\n",
              "      <td>0.0</td>\n",
              "    </tr>\n",
              "    <tr>\n",
              "      <th>zoning</th>\n",
              "      <td>0.0</td>\n",
              "    </tr>\n",
              "    <tr>\n",
              "      <th>subdivision</th>\n",
              "      <td>8.8</td>\n",
              "    </tr>\n",
              "    <tr>\n",
              "      <th>present_use</th>\n",
              "      <td>0.0</td>\n",
              "    </tr>\n",
              "    <tr>\n",
              "      <th>grade</th>\n",
              "      <td>0.0</td>\n",
              "    </tr>\n",
              "    <tr>\n",
              "      <th>fbsmt_grade</th>\n",
              "      <td>0.0</td>\n",
              "    </tr>\n",
              "    <tr>\n",
              "      <th>condition</th>\n",
              "      <td>0.0</td>\n",
              "    </tr>\n",
              "    <tr>\n",
              "      <th>wfnt</th>\n",
              "      <td>0.0</td>\n",
              "    </tr>\n",
              "    <tr>\n",
              "      <th>golf</th>\n",
              "      <td>0.0</td>\n",
              "    </tr>\n",
              "    <tr>\n",
              "      <th>greenbelt</th>\n",
              "      <td>0.0</td>\n",
              "    </tr>\n",
              "    <tr>\n",
              "      <th>noise_traffic</th>\n",
              "      <td>0.0</td>\n",
              "    </tr>\n",
              "    <tr>\n",
              "      <th>view_rainier</th>\n",
              "      <td>0.0</td>\n",
              "    </tr>\n",
              "    <tr>\n",
              "      <th>view_olympics</th>\n",
              "      <td>0.0</td>\n",
              "    </tr>\n",
              "    <tr>\n",
              "      <th>view_cascades</th>\n",
              "      <td>0.0</td>\n",
              "    </tr>\n",
              "    <tr>\n",
              "      <th>view_territorial</th>\n",
              "      <td>0.0</td>\n",
              "    </tr>\n",
              "    <tr>\n",
              "      <th>view_skyline</th>\n",
              "      <td>0.0</td>\n",
              "    </tr>\n",
              "    <tr>\n",
              "      <th>view_sound</th>\n",
              "      <td>0.0</td>\n",
              "    </tr>\n",
              "    <tr>\n",
              "      <th>view_lakewash</th>\n",
              "      <td>0.0</td>\n",
              "    </tr>\n",
              "    <tr>\n",
              "      <th>view_lakesamm</th>\n",
              "      <td>0.0</td>\n",
              "    </tr>\n",
              "    <tr>\n",
              "      <th>view_otherwater</th>\n",
              "      <td>0.0</td>\n",
              "    </tr>\n",
              "    <tr>\n",
              "      <th>view_other</th>\n",
              "      <td>0.0</td>\n",
              "    </tr>\n",
              "    <tr>\n",
              "      <th>submarket</th>\n",
              "      <td>0.9</td>\n",
              "    </tr>\n",
              "  </tbody>\n",
              "</table>\n",
              "</div>"
            ],
            "text/plain": [
              "                  Tỷ lệ giá trị thiếu (%)\n",
              "sale_date                             0.0\n",
              "sale_warning                         90.3\n",
              "join_status                           0.0\n",
              "join_year                             0.0\n",
              "city                                  0.0\n",
              "zoning                                0.0\n",
              "subdivision                           8.8\n",
              "present_use                           0.0\n",
              "grade                                 0.0\n",
              "fbsmt_grade                           0.0\n",
              "condition                             0.0\n",
              "wfnt                                  0.0\n",
              "golf                                  0.0\n",
              "greenbelt                             0.0\n",
              "noise_traffic                         0.0\n",
              "view_rainier                          0.0\n",
              "view_olympics                         0.0\n",
              "view_cascades                         0.0\n",
              "view_territorial                      0.0\n",
              "view_skyline                          0.0\n",
              "view_sound                            0.0\n",
              "view_lakewash                         0.0\n",
              "view_lakesamm                         0.0\n",
              "view_otherwater                       0.0\n",
              "view_other                            0.0\n",
              "submarket                             0.9"
            ]
          },
          "execution_count": 22,
          "metadata": {},
          "output_type": "execute_result"
        }
      ],
      "source": [
        "# Chọn ra các cột định tính\n",
        "categorical_cols = df.select_dtypes(exclude=['number']).columns\n",
        "\n",
        "# Hàm tính tỷ lệ giá trị thiếu\n",
        "def missing_ratio(series):\n",
        "    return ((series.isnull()) | (series.astype(str).str.strip() == \"\")).mean() * 100\n",
        "# Tạo DataFrame thống kê\n",
        "categorical_info_df = pd.DataFrame({\n",
        "    \"Tỷ lệ giá trị thiếu (%)\": df[categorical_cols].apply(missing_ratio).round(1),\n",
        "}).T\n",
        "\n",
        "# In kết quả\n",
        "categorical_info_df_T = categorical_info_df.T  # Đảo chiều\n",
        "categorical_info_df_T"
      ]
    },
    {
      "cell_type": "markdown",
      "metadata": {
        "id": "V8Cml3D1GKzu"
      },
      "source": [
        "**Nhận xét**: Ba cột có giá trị thiếu là `sale_warning` (90.3%), `subdivision` (8.8%) và `submarket` (0.9%)\n",
        "\n",
        "Cột `sale_warning` có tỷ lệ thiếu quá cao tận 90%, chủ yếu là các dòng trống. Các dạng giá trị cũng không đồng nhất, nên ta loại bỏ cột này để tránh nhiễu và giảm độ phức tạp của mô hình.\n",
        "\n",
        "Cột `submarket` có tỉ lệ thiếu cực kỳ thấp là 0.9%, ta sẽ điền mode (giá trị phổ biến nhất) để đảm bảo tính nhất quán và không làm ảnh hưởng đến phân phối dữ liệu.\n",
        "\n",
        "Cột `subdivision` tuy tỷ lệ thiếu không quá cao (8.8%) nhưng vẫn đáng kể, việc loại bỏ các dòng chứa giá trị thiếu có thể làm mất thông tin quan trọng ở các đặc trưng khác. Do đó, ta lựa chọn điền giá trị thiếu bằng 'unknown' là một nhãn đặc biệt đại diện cho trường hợp không có thông tin ban đầu. Từ đó ta có thể:\n",
        "\n",
        "- Giữ lại toàn bộ dữ liệu gốc để phục vụ huấn luyện mô hình học máy.\n",
        "\n",
        "- Giữ nguyên tín hiệu về sự thiếu thông tin, vì 'unknown' sẽ trở thành một lớp phân loại riêng, cho phép mô hình học được sự khác biệt này.\n",
        "\n",
        "- Tránh gây sai lệch phân phối hoặc mất mát dữ liệu không cần thiết."
      ]
    },
    {
      "cell_type": "code",
      "execution_count": 23,
      "metadata": {
        "id": "zQH5CwOuGKzu"
      },
      "outputs": [],
      "source": [
        "df['subdivision'] = df['subdivision'].fillna('unknown')\n",
        "\n",
        "mode_submarket = df['submarket'].mode()[0]\n",
        "df['submarket'] = df['submarket'].fillna(mode_submarket)\n",
        "\n",
        "df.drop(columns=['sale_warning'], inplace=True)\n",
        "\n",
        "if 'sale_warning' in categorical_cols:\n",
        "    categorical_cols = categorical_cols.drop('sale_warning')"
      ]
    },
    {
      "cell_type": "markdown",
      "metadata": {
        "id": "SMdXHf2SGKzu"
      },
      "source": [
        "#### Số giá trị phân biệt của mỗi cột\n"
      ]
    },
    {
      "cell_type": "markdown",
      "metadata": {
        "id": "BMQnvgqUGKzu"
      },
      "source": [
        "Với một cột dữ liệu định tính, thực hiện tính toán:\n",
        "- Số giá trị phân biệt cho từng cột\n",
        "- Giá trị xuất hiện nhiều nhất (mode): Tìm giá trị phổ biến nhất trong cột (nếu có nhiều giá trị bằng nhau, chọn ngẫu nhiên một giá trị).\n",
        "- Tần suất xuất hiện của giá trị phổ biến nhất: Đếm số lần xuất hiện của giá trị phổ biến nhất."
      ]
    },
    {
      "cell_type": "code",
      "execution_count": 24,
      "metadata": {
        "colab": {
          "base_uri": "https://localhost:8080/",
          "height": 833
        },
        "id": "STkKUtkqGKzv",
        "outputId": "35d14ced-fa25-4b4f-e1df-5fa6a5eab14d"
      },
      "outputs": [
        {
          "data": {
            "text/html": [
              "<div>\n",
              "<style scoped>\n",
              "    .dataframe tbody tr th:only-of-type {\n",
              "        vertical-align: middle;\n",
              "    }\n",
              "\n",
              "    .dataframe tbody tr th {\n",
              "        vertical-align: top;\n",
              "    }\n",
              "\n",
              "    .dataframe thead th {\n",
              "        text-align: right;\n",
              "    }\n",
              "</style>\n",
              "<table border=\"1\" class=\"dataframe\">\n",
              "  <thead>\n",
              "    <tr style=\"text-align: right;\">\n",
              "      <th></th>\n",
              "      <th>Số lượng giá trị phân biệt</th>\n",
              "      <th>Giá trị phổ biến nhất</th>\n",
              "      <th>Tần suất của giá trị phổ biến nhất</th>\n",
              "    </tr>\n",
              "  </thead>\n",
              "  <tbody>\n",
              "    <tr>\n",
              "      <th>sale_date</th>\n",
              "      <td>316</td>\n",
              "      <td>2025-03-15 00:00:00</td>\n",
              "      <td>1436</td>\n",
              "    </tr>\n",
              "    <tr>\n",
              "      <th>join_status</th>\n",
              "      <td>8</td>\n",
              "      <td>nochg</td>\n",
              "      <td>126519</td>\n",
              "    </tr>\n",
              "    <tr>\n",
              "      <th>join_year</th>\n",
              "      <td>2</td>\n",
              "      <td>2025</td>\n",
              "      <td>187848</td>\n",
              "    </tr>\n",
              "    <tr>\n",
              "      <th>city</th>\n",
              "      <td>41</td>\n",
              "      <td>SEATTLE</td>\n",
              "      <td>59213</td>\n",
              "    </tr>\n",
              "    <tr>\n",
              "      <th>zoning</th>\n",
              "      <td>501</td>\n",
              "      <td>NR3</td>\n",
              "      <td>28886</td>\n",
              "    </tr>\n",
              "    <tr>\n",
              "      <th>subdivision</th>\n",
              "      <td>10392</td>\n",
              "      <td>unknown</td>\n",
              "      <td>17550</td>\n",
              "    </tr>\n",
              "    <tr>\n",
              "      <th>present_use</th>\n",
              "      <td>3</td>\n",
              "      <td>2</td>\n",
              "      <td>183197</td>\n",
              "    </tr>\n",
              "    <tr>\n",
              "      <th>grade</th>\n",
              "      <td>13</td>\n",
              "      <td>7</td>\n",
              "      <td>79320</td>\n",
              "    </tr>\n",
              "    <tr>\n",
              "      <th>fbsmt_grade</th>\n",
              "      <td>14</td>\n",
              "      <td>0</td>\n",
              "      <td>120882</td>\n",
              "    </tr>\n",
              "    <tr>\n",
              "      <th>condition</th>\n",
              "      <td>5</td>\n",
              "      <td>3</td>\n",
              "      <td>117823</td>\n",
              "    </tr>\n",
              "    <tr>\n",
              "      <th>wfnt</th>\n",
              "      <td>9</td>\n",
              "      <td>0</td>\n",
              "      <td>197580</td>\n",
              "    </tr>\n",
              "    <tr>\n",
              "      <th>golf</th>\n",
              "      <td>2</td>\n",
              "      <td>0</td>\n",
              "      <td>198786</td>\n",
              "    </tr>\n",
              "    <tr>\n",
              "      <th>greenbelt</th>\n",
              "      <td>2</td>\n",
              "      <td>0</td>\n",
              "      <td>193130</td>\n",
              "    </tr>\n",
              "    <tr>\n",
              "      <th>noise_traffic</th>\n",
              "      <td>4</td>\n",
              "      <td>0</td>\n",
              "      <td>173308</td>\n",
              "    </tr>\n",
              "    <tr>\n",
              "      <th>view_rainier</th>\n",
              "      <td>5</td>\n",
              "      <td>0</td>\n",
              "      <td>198647</td>\n",
              "    </tr>\n",
              "    <tr>\n",
              "      <th>view_olympics</th>\n",
              "      <td>5</td>\n",
              "      <td>0</td>\n",
              "      <td>195697</td>\n",
              "    </tr>\n",
              "    <tr>\n",
              "      <th>view_cascades</th>\n",
              "      <td>5</td>\n",
              "      <td>0</td>\n",
              "      <td>195141</td>\n",
              "    </tr>\n",
              "    <tr>\n",
              "      <th>view_territorial</th>\n",
              "      <td>5</td>\n",
              "      <td>0</td>\n",
              "      <td>182671</td>\n",
              "    </tr>\n",
              "    <tr>\n",
              "      <th>view_skyline</th>\n",
              "      <td>5</td>\n",
              "      <td>0</td>\n",
              "      <td>198441</td>\n",
              "    </tr>\n",
              "    <tr>\n",
              "      <th>view_sound</th>\n",
              "      <td>5</td>\n",
              "      <td>0</td>\n",
              "      <td>194720</td>\n",
              "    </tr>\n",
              "    <tr>\n",
              "      <th>view_lakewash</th>\n",
              "      <td>5</td>\n",
              "      <td>0</td>\n",
              "      <td>195142</td>\n",
              "    </tr>\n",
              "    <tr>\n",
              "      <th>view_lakesamm</th>\n",
              "      <td>5</td>\n",
              "      <td>0</td>\n",
              "      <td>198823</td>\n",
              "    </tr>\n",
              "    <tr>\n",
              "      <th>view_otherwater</th>\n",
              "      <td>5</td>\n",
              "      <td>0</td>\n",
              "      <td>198402</td>\n",
              "    </tr>\n",
              "    <tr>\n",
              "      <th>view_other</th>\n",
              "      <td>4</td>\n",
              "      <td>0</td>\n",
              "      <td>198822</td>\n",
              "    </tr>\n",
              "    <tr>\n",
              "      <th>submarket</th>\n",
              "      <td>19</td>\n",
              "      <td>K</td>\n",
              "      <td>22759</td>\n",
              "    </tr>\n",
              "  </tbody>\n",
              "</table>\n",
              "</div>"
            ],
            "text/plain": [
              "                 Số lượng giá trị phân biệt Giá trị phổ biến nhất  \\\n",
              "sale_date                               316   2025-03-15 00:00:00   \n",
              "join_status                               8                 nochg   \n",
              "join_year                                 2                  2025   \n",
              "city                                     41               SEATTLE   \n",
              "zoning                                  501                   NR3   \n",
              "subdivision                           10392               unknown   \n",
              "present_use                               3                     2   \n",
              "grade                                    13                     7   \n",
              "fbsmt_grade                              14                     0   \n",
              "condition                                 5                     3   \n",
              "wfnt                                      9                     0   \n",
              "golf                                      2                     0   \n",
              "greenbelt                                 2                     0   \n",
              "noise_traffic                             4                     0   \n",
              "view_rainier                              5                     0   \n",
              "view_olympics                             5                     0   \n",
              "view_cascades                             5                     0   \n",
              "view_territorial                          5                     0   \n",
              "view_skyline                              5                     0   \n",
              "view_sound                                5                     0   \n",
              "view_lakewash                             5                     0   \n",
              "view_lakesamm                             5                     0   \n",
              "view_otherwater                           5                     0   \n",
              "view_other                                4                     0   \n",
              "submarket                                19                     K   \n",
              "\n",
              "                 Tần suất của giá trị phổ biến nhất  \n",
              "sale_date                                      1436  \n",
              "join_status                                  126519  \n",
              "join_year                                    187848  \n",
              "city                                          59213  \n",
              "zoning                                        28886  \n",
              "subdivision                                   17550  \n",
              "present_use                                  183197  \n",
              "grade                                         79320  \n",
              "fbsmt_grade                                  120882  \n",
              "condition                                    117823  \n",
              "wfnt                                         197580  \n",
              "golf                                         198786  \n",
              "greenbelt                                    193130  \n",
              "noise_traffic                                173308  \n",
              "view_rainier                                 198647  \n",
              "view_olympics                                195697  \n",
              "view_cascades                                195141  \n",
              "view_territorial                             182671  \n",
              "view_skyline                                 198441  \n",
              "view_sound                                   194720  \n",
              "view_lakewash                                195142  \n",
              "view_lakesamm                                198823  \n",
              "view_otherwater                              198402  \n",
              "view_other                                   198822  \n",
              "submarket                                     22759  "
            ]
          },
          "execution_count": 24,
          "metadata": {},
          "output_type": "execute_result"
        }
      ],
      "source": [
        "# Hàm tính giá trị phổ biến nhất (mode) và tần suất của nó\n",
        "def mode_value(series):\n",
        "    if series.mode().empty:\n",
        "        return None  # Nếu không có mode\n",
        "    return series.mode()[0]\n",
        "\n",
        "def mode_frequency(series):\n",
        "    if series.mode().empty:\n",
        "        return 0  # Nếu không có mode\n",
        "    return (series == series.mode()[0]).sum()\n",
        "\n",
        "# Tạo DataFrame thống kê\n",
        "categorical_info_df = pd.DataFrame({\n",
        "    \"Số lượng giá trị phân biệt\": df[categorical_cols].nunique(),\n",
        "    \"Giá trị phổ biến nhất\": df[categorical_cols].apply(mode_value),\n",
        "    \"Tần suất của giá trị phổ biến nhất\": df[categorical_cols].apply(mode_frequency)\n",
        "}).T\n",
        "\n",
        "# In kết quả\n",
        "categorical_info_df_T = categorical_info_df.T  # Đảo chiều\n",
        "categorical_info_df_T"
      ]
    },
    {
      "cell_type": "markdown",
      "metadata": {
        "id": "hqmOg3ZRGKzv"
      },
      "source": [
        "**Nhận xét:**\n",
        "\n",
        "Một số cột như `wfnt`, `golf`, `greenbelt` và các cột `view_*` có giá trị phổ biến là 0, chiếm tỉ lệ áp đảo, cho thấy phần lớn các căn nhà không có các đặc điểm này. Những cột này mang tính nhị phân hoặc phân loại lệch mạnh, cần xem xét khi dùng cho mô hình để tránh gây mất cân bằng.\n",
        "\n",
        "Cột `present_use` có 3 giá trị, nhưng phân phối không đồng đều (một giá trị chiếm ưu thế). Cột `noise_traffic` có 4 mức nhưng bị lệch mạnh về giá trị 0. Cột `fbsmt_grade` có 13 mức, với giá trị 0 chiếm hơn 60%, phản ánh tình trạng tầng hầm chưa hoàn thiện.\n",
        "\n",
        "Ngược lại, các cột như `city`, `zoning`, `subdivision` và `submarket` có số lượng giá trị phân biệt lớn, thể hiện sự đa dạng trong khu vực, quy hoạch và phân khu thị trường.\n",
        "\n",
        "Cột `join_year` có phân phối cực lệch về năm 2025. Do sự mất cân bằng này và số lượng giá trị thấp, nên chuyển thành biến phân loại nhị phân để mô hình dễ học và tránh hiểu nhầm khoảng cách số học giữa các năm.\n",
        "\n",
        "Các cột phân loại có phân phối cân đối hơn như `grade`, `condition`, `join_status` có phân phối tương đối cân bằng."
      ]
    },
    {
      "cell_type": "markdown",
      "metadata": {
        "id": "epOzRZyFGKzv"
      },
      "source": [
        "Cột `join_year` chỉ có hai giá trị là 1999 (6%) và 2025 (94%). Do phân phối quá lệch và không mang tính liên tục, ta mã hóa thành một biến nhị phân is_2025 với giá trị 1 tương ứng với năm 2025."
      ]
    },
    {
      "cell_type": "code",
      "execution_count": 25,
      "metadata": {
        "id": "6KBtcqG5GKzv"
      },
      "outputs": [],
      "source": [
        "df['is_2025'] = (df['join_year'] == 2025).astype(int).astype('category')"
      ]
    },
    {
      "cell_type": "markdown",
      "metadata": {
        "id": "v4MlqN8yGKzv"
      },
      "source": [
        "#### Sự phân bố dữ liệu"
      ]
    },
    {
      "cell_type": "code",
      "execution_count": 26,
      "metadata": {
        "colab": {
          "base_uri": "https://localhost:8080/",
          "height": 1000
        },
        "id": "OwX9UuGfGKzv",
        "outputId": "80271a6e-9692-49d2-b300-50ca0b583d40"
      },
      "outputs": [],
      "source": [
        "# def plot_categorical_distribution(df, categorical_columns, datetime_col='sale_date',\n",
        "#                                                  ncols=3, top_n=20, max_label_len=20, step=24):\n",
        "#     # Convert datetime_col sang datetime\n",
        "#     df[datetime_col] = pd.to_datetime(df[datetime_col], errors='coerce')\n",
        "#     df['sale_month'] = df[datetime_col].dt.to_period('M').astype(str)\n",
        "\n",
        "#     # Các cột phân loại khác\n",
        "#     other_cols = [col for col in categorical_columns if col.lower() != 'id' and col != datetime_col]\n",
        "\n",
        "#     total_plots = 1 + len(other_cols)\n",
        "#     nrows = math.ceil(total_plots / ncols)\n",
        "#     plt.figure(figsize=(ncols * 6, nrows * 4))\n",
        "\n",
        "#     plot_index = 1\n",
        "\n",
        "#     # === Subplot đầu tiên: sale_date theo tháng (lineplot) ===\n",
        "#     plt.subplot(nrows, ncols, plot_index)\n",
        "#     monthly_counts = df['sale_month'].value_counts().sort_index()\n",
        "\n",
        "#     plt.plot(monthly_counts.index, monthly_counts.values, marker='o')\n",
        "#     plt.title(f\"Số lượng giao dịch theo thời gian ({datetime_col})\")\n",
        "#     plt.xlabel(\"Thời gian (tháng)\")\n",
        "#     plt.ylabel(\"Số giao dịch\")\n",
        "\n",
        "#     # Hiển thị nhãn cách đều (mỗi step tháng)\n",
        "#     xticks = monthly_counts.index.tolist()\n",
        "#     plt.xticks(ticks=range(0, len(xticks), step), labels=xticks[::step], rotation=45, ha='right')\n",
        "\n",
        "#     plot_index += 1\n",
        "\n",
        "#     # === Các cột phân loại còn lại ===\n",
        "#     for col in other_cols:\n",
        "#         plt.subplot(nrows, ncols, plot_index)\n",
        "\n",
        "#         top_values = df[col].value_counts().nlargest(top_n)\n",
        "#         short_labels = [\n",
        "#             val[:max_label_len] + '...' if len(str(val)) > max_label_len else str(val)\n",
        "#             for val in top_values.index\n",
        "#         ]\n",
        "\n",
        "#         sns.countplot(x=col, data=df[df[col].isin(top_values.index)],\n",
        "#                       order=top_values.index)\n",
        "#         plt.xticks(ticks=range(len(short_labels)), labels=short_labels, rotation=45, ha='right')\n",
        "#         plt.title(f'Phân bố {col}')\n",
        "\n",
        "#         plot_index += 1\n",
        "\n",
        "#     plt.tight_layout()\n",
        "#     plt.show()\n",
        "\n",
        "# plot_categorical_distribution(df, categorical_cols)"
      ]
    },
    {
      "cell_type": "markdown",
      "metadata": {
        "id": "yN0T3BcRGKzw"
      },
      "source": [
        "**Nhận xét**\n",
        "\n",
        "- Biểu đồ phân phối của cột `sale_date` (theo tháng) dao động theo chu kỳ, thể hiện sự biến động trong lượng giao dịch theo thời gian. Không có tháng nào bị thiếu hoàn toàn chứng tỏ dữ liệu liên tục và đáng tin cậy.\n",
        "\n",
        "- Cột `subdivision` có rất nhiều giá trị rời rạc, đa số có tần suất cực thấp.\n",
        "\n",
        "- Cột `join_status` chỉ có một vài giá trị phổ biến, còn lại rất ít gây nên sự mất cân bằng cho dữ liệu.\n",
        "\n",
        "- Các cột view_*, golf, greenbelt, noise_traffice gần như toàn giá trị 0 cho thấy những cột này có phân phối rất mất cân bằng nhưng chứa thông tin đắt giá như nếu nhà có view hồ, view núi, sân golf hay ít tiếng ồn thì giá thường cao.\n",
        "\n",
        "- Các cột còn lại có phân bố tốt, giúp cho việc học của mô hình trở nên tốt hơn."
      ]
    },
    {
      "cell_type": "markdown",
      "metadata": {
        "id": "kCBOu_BxGKzw"
      },
      "source": [
        "Giờ thì ta sẽ xóa các cột đã được xử lý"
      ]
    },
    {
      "cell_type": "code",
      "execution_count": 27,
      "metadata": {
        "id": "qls1nSRsGKzw"
      },
      "outputs": [],
      "source": [
        "# Danh sách các cột gốc đã được xử lý và cần loại bỏ\n",
        "cols_to_drop = [\n",
        "    'garb_sqft',       # đã tạo garb_sqft_log\n",
        "    'sqft_lot',        # đã tạo sqft_lot_log\n",
        "    'sale_nbr',        # đã tạo sale_nbr_log\n",
        "    'imp_val',         # đã tạo imp_val_log\n",
        "    'join_year',       # đã tạo is_2025\n",
        "    #'sale_month',      # đã có trong sale_date\n",
        "]\n",
        "\n",
        "# Xóa các cột khỏi DataFrame\n",
        "df.drop(columns=cols_to_drop, inplace=True)"
      ]
    },
    {
      "cell_type": "markdown",
      "metadata": {
        "id": "ni5GH2HiGKzw"
      },
      "source": [
        "## SAU CÁC BƯỚC TIỀN XỬ LÝ"
      ]
    },
    {
      "cell_type": "markdown",
      "metadata": {
        "id": "QHvuuWixGKzw"
      },
      "source": [
        "Số hàng, số cột của dữ liệu"
      ]
    },
    {
      "cell_type": "code",
      "execution_count": 28,
      "metadata": {
        "colab": {
          "base_uri": "https://localhost:8080/"
        },
        "id": "Lab84SFcGKzx",
        "outputId": "63fa572e-c3e9-4aa8-aaec-f7c6af882c7d"
      },
      "outputs": [
        {
          "data": {
            "text/plain": [
              "(200000, 45)"
            ]
          },
          "execution_count": 28,
          "metadata": {},
          "output_type": "execute_result"
        }
      ],
      "source": [
        "df.shape"
      ]
    },
    {
      "cell_type": "markdown",
      "metadata": {
        "id": "f_EQAKj5GKzx"
      },
      "source": [
        "Kiểu dữ liệu của các cột"
      ]
    },
    {
      "cell_type": "code",
      "execution_count": 29,
      "metadata": {
        "colab": {
          "base_uri": "https://localhost:8080/",
          "height": 1000
        },
        "id": "tSVmd9aMGKzx",
        "outputId": "1b102767-c148-4674-b9ef-33c8e6fdb655"
      },
      "outputs": [
        {
          "data": {
            "text/plain": [
              "sale_date           datetime64[ns]\n",
              "join_status               category\n",
              "latitude                   float64\n",
              "longitude                  float64\n",
              "area                         int64\n",
              "city                      category\n",
              "zoning                      object\n",
              "subdivision                 object\n",
              "present_use               category\n",
              "land_val                     int64\n",
              "year_built                   int64\n",
              "year_reno                    int64\n",
              "sqft                         int64\n",
              "sqft_1                       int64\n",
              "sqft_fbsmt                   int64\n",
              "grade                     category\n",
              "fbsmt_grade               category\n",
              "condition                 category\n",
              "stories                    float64\n",
              "beds                         int64\n",
              "bath_full                    int64\n",
              "bath_3qtr                    int64\n",
              "bath_half                    int64\n",
              "gara_sqft                    int64\n",
              "wfnt                      category\n",
              "golf                      category\n",
              "greenbelt                 category\n",
              "noise_traffic             category\n",
              "view_rainier              category\n",
              "view_olympics             category\n",
              "view_cascades             category\n",
              "view_territorial          category\n",
              "view_skyline              category\n",
              "view_sound                category\n",
              "view_lakewash             category\n",
              "view_lakesamm             category\n",
              "view_otherwater           category\n",
              "view_other                category\n",
              "submarket                 category\n",
              "sale_nbr_missing             int64\n",
              "garb_sqft_log              float64\n",
              "sqft_lot_log               float64\n",
              "sale_nbr_log               float64\n",
              "imp_val_log                float64\n",
              "is_2025                   category\n",
              "dtype: object"
            ]
          },
          "execution_count": 29,
          "metadata": {},
          "output_type": "execute_result"
        }
      ],
      "source": [
        "df.dtypes"
      ]
    },
    {
      "cell_type": "markdown",
      "metadata": {
        "id": "rPaHhLKqGKzx"
      },
      "source": [
        "Thực hiện lưu dữ liệu này vào 1 tệp mới và thực hiện các bước tiếp theo trên tệp này."
      ]
    },
    {
      "cell_type": "code",
      "execution_count": null,
      "metadata": {
        "id": "xazhP8LvGKzx"
      },
      "outputs": [],
      "source": [
        "df.to_csv('test_clean.csv', index=False)"
      ]
    }
  ],
  "metadata": {
    "colab": {
      "provenance": []
    },
    "kernelspec": {
      "display_name": "min_ds-env2",
      "language": "python",
      "name": "python3"
    },
    "language_info": {
      "codemirror_mode": {
        "name": "ipython",
        "version": 3
      },
      "file_extension": ".py",
      "mimetype": "text/x-python",
      "name": "python",
      "nbconvert_exporter": "python",
      "pygments_lexer": "ipython3",
      "version": "3.10.15"
    }
  },
  "nbformat": 4,
  "nbformat_minor": 0
}
